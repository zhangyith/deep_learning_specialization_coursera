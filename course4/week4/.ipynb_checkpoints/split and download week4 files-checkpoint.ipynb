{
 "cells": [
  {
   "cell_type": "code",
   "execution_count": null,
   "metadata": {
    "collapsed": true
   },
   "outputs": [],
   "source": [
    "# save the environment dependencies\n",
    "\n",
    "#!conda list --explicit > ../coursera-deeplearning-ai-course4-condaenv.txt\n",
    "#!conda list --explicit > ../coursera-deeplearning-ai-course2-week2-condaenv.txt\n",
    "\n",
    "# package all notebook content by week\n",
    "\n",
    "!tar chzvf ../coursera-deeplearning-ai-course4-week4.tgz ../week4/* --exclude ../coursera-deeplearning-ai-course4-week4.tgz\n",
    "\n",
    "\n",
    "#!tar chzvf ../coursera-deeplearning-ai-course4-week1.tgz ../week1/* --exclude ../coursera-deeplearning-ai-course4-week1.tgz\n",
    "\n",
    "#!tar chzvf ../coursera-deeplearning-ai-course4-week2.tgz ../week2/* --exclude ../coursera-deeplearning-ai-course4-week2.tgz\n",
    "\n",
    "#!tar chzvf ../coursera-deeplearning-ai-course4-week3.tgz ../week3/* --exclude ../coursera-deeplearning-ai-course4-week3.tgz\n",
    "\n",
    "#!tar chzvf ../coursera-deeplearning-ai-course4-week4.tgz ../week4/* --exclude ../coursera-deeplearning-ai-course4-week4.tgz\n",
    "\n",
    "!split -b 100M ../coursera-deeplearning-ai-course4-week4.tgz \"coursera-deeplearning-ai-course4-week4.part\"\n",
    "\n",
    "#!split -b 200M ../coursera-deeplearning-ai-course4-week1.tgz \"coursera-deeplearning-ai-course4-week1.part\"\n",
    "\n",
    "#!split -b 200M ../coursera-deeplearning-ai-course4-week2.tgz \"coursera-deeplearning-ai-course4-week2.part\"\n",
    "\n",
    "#!split -b 200M ../coursera-deeplearning-ai-course4-week3.tgz \"coursera-deeplearning-ai-course4-week3.part\"\n",
    "\n",
    "#!split -b 200M ../coursera-deeplearning-ai-course4-week4.tgzIt\"coursera-deeplearning-ai-course4-week4.part\""
   ]
  }
 ],
 "metadata": {
  "kernelspec": {
   "display_name": "Python 3",
   "language": "python",
   "name": "python3"
  },
  "language_info": {
   "codemirror_mode": {
    "name": "ipython",
    "version": 3
   },
   "file_extension": ".py",
   "mimetype": "text/x-python",
   "name": "python",
   "nbconvert_exporter": "python",
   "pygments_lexer": "ipython3",
   "version": "3.5.2"
  }
 },
 "nbformat": 4,
 "nbformat_minor": 2
}
